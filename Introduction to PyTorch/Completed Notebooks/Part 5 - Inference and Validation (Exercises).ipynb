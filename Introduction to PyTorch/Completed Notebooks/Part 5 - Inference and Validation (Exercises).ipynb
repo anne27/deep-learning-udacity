{
 "cells": [
  {
   "cell_type": "markdown",
   "metadata": {},
   "source": [
    "# Inference and Validation\n",
    "\n",
    "Now that you have a trained network, you can use it for making predictions. This is typically called **inference**, a term borrowed from statistics. However, neural networks have a tendency to perform *too well* on the training data and aren't able to generalize to data that hasn't been seen before. This is called **overfitting** and it impairs inference performance. To test for overfitting while training, we measure the performance on data not in the training set called the **validation** set. We avoid overfitting through regularization such as dropout while monitoring the validation performance during training. In this notebook, I'll show you how to do this in PyTorch. \n",
    "\n",
    "As usual, let's start by loading the dataset through torchvision. You'll learn more about torchvision and loading data in a later part. This time we'll be taking advantage of the test set which you can get by setting `train=False` here:\n",
    "\n",
    "```python\n",
    "testset = datasets.FashionMNIST('~/.pytorch/F_MNIST_data/', download=True, train=False, transform=transform)\n",
    "```\n",
    "\n",
    "The test set contains images just like the training set. Typically you'll see 10-20% of the original dataset held out for testing and validation with the rest being used for training."
   ]
  },
  {
   "cell_type": "code",
   "execution_count": 3,
   "metadata": {},
   "outputs": [],
   "source": [
    "import torch\n",
    "from torchvision import datasets, transforms\n",
    "\n",
    "# Define a transform to normalize the data\n",
    "transform = transforms.Compose([transforms.ToTensor(),\n",
    "                                transforms.Normalize((0.5,), (0.5,))])\n",
    "# Download and load the training data\n",
    "trainset = datasets.FashionMNIST('~/.pytorch/F_MNIST_data/', download=True, train=True, transform=transform)\n",
    "trainloader = torch.utils.data.DataLoader(trainset, batch_size=64, shuffle=True)\n",
    "\n",
    "# Download and load the test data\n",
    "testset = datasets.FashionMNIST('~/.pytorch/F_MNIST_data/', download=True, train=False, transform=transform)\n",
    "testloader = torch.utils.data.DataLoader(testset, batch_size=64, shuffle=True)"
   ]
  },
  {
   "cell_type": "code",
   "execution_count": null,
   "metadata": {},
   "outputs": [],
   "source": [
    "len(testset)"
   ]
  },
  {
   "cell_type": "markdown",
   "metadata": {},
   "source": [
    "Here I'll create a model like normal, using the same one from my solution for part 4."
   ]
  },
  {
   "cell_type": "code",
   "execution_count": 4,
   "metadata": {},
   "outputs": [],
   "source": [
    "from torch import nn, optim\n",
    "import torch.nn.functional as F\n",
    "\n",
    "class Classifier(nn.Module):\n",
    "    def __init__(self):\n",
    "        super().__init__()\n",
    "        self.fc1 = nn.Linear(784, 256)\n",
    "        self.fc2 = nn.Linear(256, 128)\n",
    "        self.fc3 = nn.Linear(128, 64)\n",
    "        self.fc4 = nn.Linear(64, 10)\n",
    "        \n",
    "    def forward(self, x):\n",
    "        # make sure input tensor is flattened\n",
    "        x = x.view(x.shape[0], -1)\n",
    "        \n",
    "        x = F.relu(self.fc1(x))\n",
    "        x = F.relu(self.fc2(x))\n",
    "        x = F.relu(self.fc3(x))\n",
    "        x = F.log_softmax(self.fc4(x), dim=1)\n",
    "        \n",
    "        return x"
   ]
  },
  {
   "cell_type": "markdown",
   "metadata": {},
   "source": [
    "The goal of validation is to measure the model's performance on data that isn't part of the training set. Performance here is up to the developer to define though. Typically this is just accuracy, the percentage of classes the network predicted correctly. Other options are [precision and recall](https://en.wikipedia.org/wiki/Precision_and_recall#Definition_(classification_context)) and top-5 error rate. We'll focus on accuracy here. First I'll do a forward pass with one batch from the test set."
   ]
  },
  {
   "cell_type": "code",
   "execution_count": 3,
   "metadata": {},
   "outputs": [
    {
     "name": "stdout",
     "output_type": "stream",
     "text": [
      "torch.Size([64, 10])\n"
     ]
    }
   ],
   "source": [
    "model = Classifier()\n",
    "\n",
    "images, labels = next(iter(testloader))\n",
    "# Get the class probabilities\n",
    "ps = torch.exp(model(images))\n",
    "# Make sure the shape is appropriate, we should get 10 class probabilities for 64 examples\n",
    "print(ps.shape)"
   ]
  },
  {
   "cell_type": "markdown",
   "metadata": {},
   "source": [
    "With the probabilities, we can get the most likely class using the `ps.topk` method. This returns the $k$ highest values. Since we just want the most likely class, we can use `ps.topk(1)`. This returns a tuple of the top-$k$ values and the top-$k$ indices. If the highest value is the fifth element, we'll get back 4 as the index."
   ]
  },
  {
   "cell_type": "code",
   "execution_count": 4,
   "metadata": {},
   "outputs": [
    {
     "name": "stdout",
     "output_type": "stream",
     "text": [
      "tensor([[7],\n",
      "        [7],\n",
      "        [7],\n",
      "        [7],\n",
      "        [7],\n",
      "        [7],\n",
      "        [7],\n",
      "        [7],\n",
      "        [7],\n",
      "        [7]])\n"
     ]
    }
   ],
   "source": [
    "top_p, top_class = ps.topk(1, dim=1)\n",
    "# Look at the most likely classes for the first 10 examples\n",
    "print(top_class[:10,:])"
   ]
  },
  {
   "cell_type": "markdown",
   "metadata": {},
   "source": [
    "Now we can check if the predicted classes match the labels. This is simple to do by equating `top_class` and `labels`, but we have to be careful of the shapes. Here `top_class` is a 2D tensor with shape `(64, 1)` while `labels` is 1D with shape `(64)`. To get the equality to work out the way we want, `top_class` and `labels` must have the same shape.\n",
    "\n",
    "If we do\n",
    "\n",
    "```python\n",
    "equals = top_class == labels\n",
    "```\n",
    "\n",
    "`equals` will have shape `(64, 64)`, try it yourself. What it's doing is comparing the one element in each row of `top_class` with each element in `labels` which returns 64 True/False boolean values for each row."
   ]
  },
  {
   "cell_type": "code",
   "execution_count": 6,
   "metadata": {},
   "outputs": [],
   "source": [
    "equals = top_class == labels.view(*top_class.shape)"
   ]
  },
  {
   "cell_type": "code",
   "execution_count": 7,
   "metadata": {},
   "outputs": [
    {
     "data": {
      "text/plain": [
       "tensor([[False],\n",
       "        [False],\n",
       "        [False],\n",
       "        [ True],\n",
       "        [False],\n",
       "        [False],\n",
       "        [False],\n",
       "        [False],\n",
       "        [False],\n",
       "        [False],\n",
       "        [False],\n",
       "        [False],\n",
       "        [False],\n",
       "        [False],\n",
       "        [False],\n",
       "        [ True],\n",
       "        [False],\n",
       "        [False],\n",
       "        [False],\n",
       "        [False],\n",
       "        [False],\n",
       "        [ True],\n",
       "        [False],\n",
       "        [False],\n",
       "        [False],\n",
       "        [False],\n",
       "        [ True],\n",
       "        [False],\n",
       "        [False],\n",
       "        [False],\n",
       "        [False],\n",
       "        [False],\n",
       "        [False],\n",
       "        [False],\n",
       "        [False],\n",
       "        [ True],\n",
       "        [False],\n",
       "        [False],\n",
       "        [False],\n",
       "        [False],\n",
       "        [False],\n",
       "        [False],\n",
       "        [False],\n",
       "        [False],\n",
       "        [False],\n",
       "        [False],\n",
       "        [False],\n",
       "        [False],\n",
       "        [ True],\n",
       "        [False],\n",
       "        [False],\n",
       "        [False],\n",
       "        [False],\n",
       "        [ True],\n",
       "        [False],\n",
       "        [False],\n",
       "        [False],\n",
       "        [False],\n",
       "        [False],\n",
       "        [ True],\n",
       "        [False],\n",
       "        [False],\n",
       "        [False],\n",
       "        [ True]])"
      ]
     },
     "execution_count": 7,
     "metadata": {},
     "output_type": "execute_result"
    }
   ],
   "source": [
    "equals"
   ]
  },
  {
   "cell_type": "markdown",
   "metadata": {},
   "source": [
    "Now we need to calculate the percentage of correct predictions. `equals` has binary values, either 0 or 1. This means that if we just sum up all the values and divide by the number of values, we get the percentage of correct predictions. This is the same operation as taking the mean, so we can get the accuracy with a call to `torch.mean`. If only it was that simple. If you try `torch.mean(equals)`, you'll get an error\n",
    "\n",
    "```\n",
    "RuntimeError: mean is not implemented for type torch.ByteTensor\n",
    "```\n",
    "\n",
    "This happens because `equals` has type `torch.ByteTensor` but `torch.mean` isn't implemented for tensors with that type. So we'll need to convert `equals` to a float tensor. Note that when we take `torch.mean` it returns a scalar tensor, to get the actual value as a float we'll need to do `accuracy.item()`."
   ]
  },
  {
   "cell_type": "code",
   "execution_count": 5,
   "metadata": {},
   "outputs": [
    {
     "ename": "NameError",
     "evalue": "name 'equals' is not defined",
     "output_type": "error",
     "traceback": [
      "\u001b[0;31m---------------------------------------------------------------------------\u001b[0m",
      "\u001b[0;31mNameError\u001b[0m                                 Traceback (most recent call last)",
      "\u001b[0;32m<ipython-input-5-a6b5a2b70ea9>\u001b[0m in \u001b[0;36m<module>\u001b[0;34m\u001b[0m\n\u001b[0;32m----> 1\u001b[0;31m \u001b[0maccuracy\u001b[0m \u001b[0;34m=\u001b[0m \u001b[0mtorch\u001b[0m\u001b[0;34m.\u001b[0m\u001b[0mmean\u001b[0m\u001b[0;34m(\u001b[0m\u001b[0mequals\u001b[0m\u001b[0;34m.\u001b[0m\u001b[0mtype\u001b[0m\u001b[0;34m(\u001b[0m\u001b[0mtorch\u001b[0m\u001b[0;34m.\u001b[0m\u001b[0mFloatTensor\u001b[0m\u001b[0;34m)\u001b[0m\u001b[0;34m)\u001b[0m\u001b[0;34m\u001b[0m\u001b[0;34m\u001b[0m\u001b[0m\n\u001b[0m\u001b[1;32m      2\u001b[0m \u001b[0mprint\u001b[0m\u001b[0;34m(\u001b[0m\u001b[0;34mf'Accuracy: {accuracy.item()*100}%'\u001b[0m\u001b[0;34m)\u001b[0m\u001b[0;34m\u001b[0m\u001b[0;34m\u001b[0m\u001b[0m\n",
      "\u001b[0;31mNameError\u001b[0m: name 'equals' is not defined"
     ]
    }
   ],
   "source": [
    "accuracy = torch.mean(equals.type(torch.FloatTensor))\n",
    "print(f'Accuracy: {accuracy.item()*100}%')"
   ]
  },
  {
   "cell_type": "code",
   "execution_count": 8,
   "metadata": {},
   "outputs": [
    {
     "data": {
      "text/plain": [
       "64"
      ]
     },
     "execution_count": 8,
     "metadata": {},
     "output_type": "execute_result"
    }
   ],
   "source": [
    "testloader.batch_size"
   ]
  },
  {
   "cell_type": "markdown",
   "metadata": {},
   "source": [
    "The network is untrained so it's making random guesses and we should see an accuracy around 10%. Now let's train our network and include our validation pass so we can measure how well the network is performing on the test set. Since we're not updating our parameters in the validation pass, we can speed up our code by turning off gradients using `torch.no_grad()`:\n",
    "\n",
    "```python\n",
    "# turn off gradients\n",
    "with torch.no_grad():\n",
    "    # validation pass here\n",
    "    for images, labels in testloader:\n",
    "        ...\n",
    "```\n",
    "\n",
    ">**Exercise:** Implement the validation loop below and print out the total accuracy after the loop. You can largely copy and paste the code from above, but I suggest typing it in because writing it out yourself is essential for building the skill. In general you'll always learn more by typing it rather than copy-pasting. You should be able to get an accuracy above 80%."
   ]
  },
  {
   "cell_type": "code",
   "execution_count": 44,
   "metadata": {},
   "outputs": [
    {
     "name": "stdout",
     "output_type": "stream",
     "text": [
      "Epoch:  0\n",
      "Training loss:  0.5147735086013513\n",
      "Test loss:  0.42432698417621056\n",
      "Accuracy: 84.98208598726114%\n",
      "Epoch:  1\n",
      "Training loss:  0.3934552559593339\n",
      "Test loss:  0.387764067406867\n",
      "Accuracy: 85.89769108280255%\n",
      "Epoch:  2\n",
      "Training loss:  0.3566457415376899\n",
      "Test loss:  0.395625363347257\n",
      "Accuracy: 85.92754777070064%\n",
      "Epoch:  3\n",
      "Training loss:  0.3382422685909119\n",
      "Test loss:  0.4011929920714372\n",
      "Accuracy: 85.85788216560509%\n",
      "Epoch:  4\n",
      "Training loss:  0.3164480804586843\n",
      "Test loss:  0.41006035229582694\n",
      "Accuracy: 84.38495222929936%\n",
      "Epoch:  5\n",
      "Training loss:  0.30414397775459645\n",
      "Test loss:  0.3677419848312998\n",
      "Accuracy: 87.06210191082803%\n",
      "Epoch:  6\n",
      "Training loss:  0.29353314426852695\n",
      "Test loss:  0.4025791030211054\n",
      "Accuracy: 86.13654458598727%\n",
      "Epoch:  7\n",
      "Training loss:  0.28684317697085804\n",
      "Test loss:  0.37816250618476016\n",
      "Accuracy: 86.79339171974523%\n",
      "Epoch:  8\n",
      "Training loss:  0.2758399999615099\n",
      "Test loss:  0.407921824485633\n",
      "Accuracy: 86.82324840764332%\n",
      "Epoch:  9\n",
      "Training loss:  0.26864516143319705\n",
      "Test loss:  0.36689213995531106\n",
      "Accuracy: 87.66918789808918%\n",
      "Epoch:  10\n",
      "Training loss:  0.25937368505513236\n",
      "Test loss:  0.38382457521785596\n",
      "Accuracy: 87.08200636942675%\n",
      "Epoch:  11\n",
      "Training loss:  0.2554906901599629\n",
      "Test loss:  0.35765931200069984\n",
      "Accuracy: 87.70899681528662%\n",
      "Epoch:  12\n",
      "Training loss:  0.24431514709806645\n",
      "Test loss:  0.3583021424473471\n",
      "Accuracy: 87.7687101910828%\n",
      "Epoch:  13\n",
      "Training loss:  0.24039381858843095\n",
      "Test loss:  0.37484632845327354\n",
      "Accuracy: 87.63933121019109%\n",
      "Epoch:  14\n",
      "Training loss:  0.23720056257411234\n",
      "Test loss:  0.38096737453512325\n",
      "Accuracy: 87.69904458598727%\n",
      "Epoch:  15\n",
      "Training loss:  0.23209690007526101\n",
      "Test loss:  0.3615093436210778\n",
      "Accuracy: 88.04737261146497%\n",
      "Epoch:  16\n",
      "Training loss:  0.2284524850269307\n",
      "Test loss:  0.39569485197021703\n",
      "Accuracy: 87.93789808917197%\n",
      "Epoch:  17\n",
      "Training loss:  0.22621545479940708\n",
      "Test loss:  0.3718491400692873\n",
      "Accuracy: 88.38574840764332%\n",
      "Epoch:  18\n",
      "Training loss:  0.2183208859869158\n",
      "Test loss:  0.3891409759878353\n",
      "Accuracy: 87.9578025477707%\n",
      "Epoch:  19\n",
      "Training loss:  0.21730507785148584\n",
      "Test loss:  0.3774350584502433\n",
      "Accuracy: 88.65445859872611%\n",
      "Epoch:  20\n",
      "Training loss:  0.21246284409674374\n",
      "Test loss:  0.3905185666528477\n",
      "Accuracy: 88.13694267515923%\n",
      "Epoch:  21\n",
      "Training loss:  0.20979669787037347\n",
      "Test loss:  0.38800873004706804\n",
      "Accuracy: 87.94785031847134%\n",
      "Epoch:  22\n",
      "Training loss:  0.20284952718947233\n",
      "Test loss:  0.3873985244590006\n",
      "Accuracy: 88.05732484076432%\n",
      "Epoch:  23\n",
      "Training loss:  0.20175012062464567\n",
      "Test loss:  0.3855810951038151\n",
      "Accuracy: 88.18670382165605%\n",
      "Epoch:  24\n",
      "Training loss:  0.2019425724932888\n",
      "Test loss:  0.3687100526728448\n",
      "Accuracy: 88.39570063694268%\n",
      "Epoch:  25\n",
      "Training loss:  0.1979644249663996\n",
      "Test loss:  0.41568421883283146\n",
      "Accuracy: 88.25636942675159%\n",
      "Epoch:  26\n",
      "Training loss:  0.1916885110599273\n",
      "Test loss:  0.3982701056702122\n",
      "Accuracy: 88.46536624203821%\n",
      "Epoch:  27\n",
      "Training loss:  0.18978060577025038\n",
      "Test loss:  0.4073519229319445\n",
      "Accuracy: 88.14689490445859%\n",
      "Epoch:  28\n",
      "Training loss:  0.18391277118008148\n",
      "Test loss:  0.4088344983993822\n",
      "Accuracy: 88.43550955414013%\n",
      "Epoch:  29\n",
      "Training loss:  0.18400998866713758\n",
      "Test loss:  0.41661324926242704\n",
      "Accuracy: 88.4952229299363%\n"
     ]
    }
   ],
   "source": [
    "model = Classifier()\n",
    "criterion = nn.NLLLoss()\n",
    "optimizer = optim.Adam(model.parameters(), lr=0.003)\n",
    "\n",
    "epochs = 30\n",
    "steps = 0\n",
    "\n",
    "train_losses, test_losses = [], []\n",
    "for e in range(epochs):\n",
    "    running_loss = 0\n",
    "    for images, labels in trainloader:\n",
    "        \n",
    "        optimizer.zero_grad()\n",
    "        \n",
    "        log_ps = model(images)\n",
    "        loss = criterion(log_ps, labels)\n",
    "        loss.backward()\n",
    "        optimizer.step()\n",
    "        \n",
    "        running_loss += loss.item()\n",
    "                \n",
    "    else:\n",
    "        total_acc = 0\n",
    "        test_loss = 0\n",
    "        ## TODO: Implement the validation pass and print out the validation accuracy\n",
    "        with torch.no_grad():\n",
    "            for images, labels in testloader:\n",
    "                                \n",
    "                # Forward pass.\n",
    "                log_ps = model(images)\n",
    "                \n",
    "                # Add the test loss.\n",
    "                test_loss += criterion(log_ps, labels).item()\n",
    "                \n",
    "                # Find probs.\n",
    "                ps = torch.exp(log_ps)\n",
    "                \n",
    "                # Find top class.\n",
    "                top_p, top_class = ps.topk(1, dim=1)\n",
    "                \n",
    "                # Check if predicted class matches labels.\n",
    "                equals = top_class == labels.view(*top_class.shape)\n",
    "                \n",
    "                # Calc. mean of equals. This is the accuracy for this batch.\n",
    "                accuracy = torch.mean(equals.type(torch.FloatTensor))\n",
    "\n",
    "                total_acc += accuracy.item()\n",
    "        \n",
    "    test_losses.append(test_loss/len(testloader))\n",
    "    train_losses.append(running_loss/len(trainloader))    \n",
    "                \n",
    "    # For this epoch.\n",
    "        \n",
    "    print(\"Epoch: \", e)\n",
    "    print(\"Training loss: \", running_loss/len(trainloader))\n",
    "    print(\"Test loss: \", test_loss/len(testloader))\n",
    "    total_acc = total_acc/len(testloader)\n",
    "    print(f'Accuracy: {total_acc*100}%')"
   ]
  },
  {
   "cell_type": "code",
   "execution_count": 45,
   "metadata": {},
   "outputs": [],
   "source": [
    "%matplotlib inline\n",
    "%config InlineBackend.figure_format = 'retina'\n",
    "\n",
    "import matplotlib.pyplot as plt"
   ]
  },
  {
   "cell_type": "code",
   "execution_count": 46,
   "metadata": {},
   "outputs": [
    {
     "data": {
      "text/plain": [
       "<matplotlib.legend.Legend at 0x7f23d1097e10>"
      ]
     },
     "execution_count": 46,
     "metadata": {},
     "output_type": "execute_result"
    },
    {
     "data": {
      "image/png": "[encoded data removed]",
      "text/plain": [
       "<Figure size 432x288 with 1 Axes>"
      ]
     },
     "metadata": {
      "image/png": {
       "height": 248,
       "width": 380
      },
      "needs_background": "light"
     },
     "output_type": "display_data"
    }
   ],
   "source": [
    "plt.plot(train_losses, label='Training loss')\n",
    "plt.plot(test_losses, label='Validation loss')\n",
    "plt.legend(frameon=False)"
   ]
  },
  {
   "cell_type": "markdown",
   "metadata": {},
   "source": [
    "## Overfitting\n",
    "\n",
    "If we look at the training and validation losses as we train the network, we can see a phenomenon known as overfitting.\n",
    "\n",
    "<img src='assets/overfitting.png' width=450px>\n",
    "\n",
    "The network learns the training set better and better, resulting in lower training losses. However, it starts having problems generalizing to data outside the training set leading to the validation loss increasing. The ultimate goal of any deep learning model is to make predictions on new data, so we should strive to get the lowest validation loss possible. One option is to use the version of the model with the lowest validation loss, here the one around 8-10 training epochs. This strategy is called *early-stopping*. In practice, you'd save the model frequently as you're training then later choose the model with the lowest validation loss.\n",
    "\n",
    "The most common method to reduce overfitting (outside of early-stopping) is *dropout*, where we randomly drop input units. This forces the network to share information between weights, increasing it's ability to generalize to new data. Adding dropout in PyTorch is straightforward using the [`nn.Dropout`](https://pytorch.org/docs/stable/nn.html#torch.nn.Dropout) module.\n",
    "\n",
    "```python\n",
    "class Classifier(nn.Module):\n",
    "    def __init__(self):\n",
    "        super().__init__()\n",
    "        self.fc1 = nn.Linear(784, 256)\n",
    "        self.fc2 = nn.Linear(256, 128)\n",
    "        self.fc3 = nn.Linear(128, 64)\n",
    "        self.fc4 = nn.Linear(64, 10)\n",
    "        \n",
    "        # Dropout module with 0.2 drop probability\n",
    "        self.dropout = nn.Dropout(p=0.2)\n",
    "        \n",
    "    def forward(self, x):\n",
    "        # make sure input tensor is flattened\n",
    "        x = x.view(x.shape[0], -1)\n",
    "        \n",
    "        # Now with dropout\n",
    "        x = self.dropout(F.relu(self.fc1(x)))\n",
    "        x = self.dropout(F.relu(self.fc2(x)))\n",
    "        x = self.dropout(F.relu(self.fc3(x)))\n",
    "        \n",
    "        # output so no dropout here\n",
    "        x = F.log_softmax(self.fc4(x), dim=1)\n",
    "        \n",
    "        return x\n",
    "```\n",
    "\n",
    "During training we want to use dropout to prevent overfitting, but during inference we want to use the entire network. So, we need to turn off dropout during validation, testing, and whenever we're using the network to make predictions. To do this, you use `model.eval()`. This sets the model to evaluation mode where the dropout probability is 0. You can turn dropout back on by setting the model to train mode with `model.train()`. In general, the pattern for the validation loop will look like this, where you turn off gradients, set the model to evaluation mode, calculate the validation loss and metric, then set the model back to train mode.\n",
    "\n",
    "```python\n",
    "# turn off gradients\n",
    "with torch.no_grad():\n",
    "    \n",
    "    # set model to evaluation mode\n",
    "    model.eval()\n",
    "    \n",
    "    # validation pass here\n",
    "    for images, labels in testloader:\n",
    "        ...\n",
    "\n",
    "# set model back to train mode\n",
    "model.train()\n",
    "```"
   ]
  },
  {
   "cell_type": "markdown",
   "metadata": {},
   "source": [
    "> **Exercise:** Add dropout to your model and train it on Fashion-MNIST again. See if you can get a lower validation loss or higher accuracy."
   ]
  },
  {
   "cell_type": "code",
   "execution_count": 5,
   "metadata": {},
   "outputs": [],
   "source": [
    "## TODO: Define your model with dropout added\n",
    "class Classifier(nn.Module):\n",
    "    def __init__(self):\n",
    "        super().__init__()\n",
    "        self.fc1 = nn.Linear(784, 256)\n",
    "        self.fc2 = nn.Linear(256, 128)\n",
    "        self.fc3 = nn.Linear(128, 64)\n",
    "        self.fc4 = nn.Linear(64, 10)\n",
    "        self.dropout = nn.Dropout(p = 0.2)\n",
    "    \n",
    "    def forward(self, x):\n",
    "        # Flatten.\n",
    "        x = x.view(x.shape[0], -1)\n",
    "        x = self.dropout(F.relu(self.fc1(x)))\n",
    "        x = self.dropout(F.relu(self.fc2(x)))\n",
    "        x = self.dropout(F.relu(self.fc3(x)))\n",
    "        x = F.log_softmax(self.fc4(x), dim=1)\n",
    "        return x"
   ]
  },
  {
   "cell_type": "code",
   "execution_count": 6,
   "metadata": {},
   "outputs": [],
   "source": [
    "from torch import nn, optim\n",
    "import torch.nn.functional as F"
   ]
  },
  {
   "cell_type": "code",
   "execution_count": 7,
   "metadata": {},
   "outputs": [
    {
     "name": "stdout",
     "output_type": "stream",
     "text": [
      "Epoch:  0\n",
      "Training loss:  0.5975057083184022\n",
      "Test loss:  0.48458166676721753\n",
      "Accuracy: 83.28025477707006%\n",
      "Epoch:  1\n",
      "Training loss:  0.4799414212579158\n",
      "Test loss:  0.4566961199424829\n",
      "Accuracy: 83.01154458598727%\n",
      "Epoch:  2\n",
      "Training loss:  0.4582935303036592\n",
      "Test loss:  0.4232443236051851\n",
      "Accuracy: 84.90246815286623%\n",
      "Epoch:  3\n",
      "Training loss:  0.4352159782259195\n",
      "Test loss:  0.425729933912587\n",
      "Accuracy: 85.01194267515923%\n",
      "Epoch:  4\n",
      "Training loss:  0.42395269173358296\n",
      "Test loss:  0.4204122938547924\n",
      "Accuracy: 85.2109872611465%\n",
      "Epoch:  5\n",
      "Training loss:  0.41396650625889236\n",
      "Test loss:  0.3943757456104467\n",
      "Accuracy: 86.28582802547771%\n",
      "Epoch:  6\n",
      "Training loss:  0.403336742118414\n",
      "Test loss:  0.398945435691791\n",
      "Accuracy: 85.83797770700637%\n",
      "Epoch:  7\n",
      "Training loss:  0.40068445391238117\n",
      "Test loss:  0.4093058223177673\n",
      "Accuracy: 85.83797770700637%\n",
      "Epoch:  8\n",
      "Training loss:  0.39392224739768356\n",
      "Test loss:  0.3888190394374216\n",
      "Accuracy: 85.64888535031847%\n",
      "Epoch:  9\n",
      "Training loss:  0.3871231280775594\n",
      "Test loss:  0.39209340816470467\n",
      "Accuracy: 85.97730891719745%\n",
      "Epoch:  10\n",
      "Training loss:  0.38399645316797787\n",
      "Test loss:  0.3977326537203637\n",
      "Accuracy: 85.4796974522293%\n",
      "Epoch:  11\n",
      "Training loss:  0.37812640591026114\n",
      "Test loss:  0.38763572418006365\n",
      "Accuracy: 86.12659235668791%\n",
      "Epoch:  12\n",
      "Training loss:  0.37604370489239947\n",
      "Test loss:  0.3946408637010368\n",
      "Accuracy: 86.24601910828027%\n",
      "Epoch:  13\n",
      "Training loss:  0.3738664546087861\n",
      "Test loss:  0.38660367810802093\n",
      "Accuracy: 86.79339171974523%\n",
      "Epoch:  14\n",
      "Training loss:  0.36860919880396775\n",
      "Test loss:  0.3857267334772523\n",
      "Accuracy: 85.96735668789809%\n",
      "Epoch:  15\n",
      "Training loss:  0.3616321203805236\n",
      "Test loss:  0.38561009895649684\n",
      "Accuracy: 86.82324840764332%\n",
      "Epoch:  16\n",
      "Training loss:  0.370334875370775\n",
      "Test loss:  0.38249014621707284\n",
      "Accuracy: 86.9625796178344%\n",
      "Epoch:  17\n",
      "Training loss:  0.3600222847895073\n",
      "Test loss:  0.381800281061868\n",
      "Accuracy: 86.87300955414013%\n",
      "Epoch:  18\n",
      "Training loss:  0.3623229628528105\n",
      "Test loss:  0.38099504390339944\n",
      "Accuracy: 87.00238853503186%\n",
      "Epoch:  19\n",
      "Training loss:  0.36288589907925267\n",
      "Test loss:  0.3805809002013723\n",
      "Accuracy: 87.10191082802548%\n",
      "Epoch:  20\n",
      "Training loss:  0.36599013287184845\n",
      "Test loss:  0.41200309047463596\n",
      "Accuracy: 87.06210191082803%\n",
      "Epoch:  21\n",
      "Training loss:  0.3582482210545143\n",
      "Test loss:  0.3670613229464573\n",
      "Accuracy: 86.91281847133759%\n",
      "Epoch:  22\n",
      "Training loss:  0.3590861576706616\n",
      "Test loss:  0.4161304862825734\n",
      "Accuracy: 86.19625796178345%\n",
      "Epoch:  23\n",
      "Training loss:  0.35293825247140326\n",
      "Test loss:  0.38483346182449607\n",
      "Accuracy: 87.37062101910828%\n",
      "Epoch:  24\n",
      "Training loss:  0.3491486390865942\n",
      "Test loss:  0.37309628853182886\n",
      "Accuracy: 87.82842356687898%\n",
      "Epoch:  25\n",
      "Training loss:  0.3510847472782328\n",
      "Test loss:  0.3999954900069601\n",
      "Accuracy: 86.92277070063695%\n",
      "Epoch:  26\n",
      "Training loss:  0.3534286765496868\n",
      "Test loss:  0.37943810461812716\n",
      "Accuracy: 87.27109872611464%\n",
      "Epoch:  27\n",
      "Training loss:  0.3508785720954318\n",
      "Test loss:  0.3682373346891373\n",
      "Accuracy: 87.54976114649682%\n",
      "Epoch:  28\n",
      "Training loss:  0.345278522909196\n",
      "Test loss:  0.4145660732107557\n",
      "Accuracy: 86.97253184713377%\n",
      "Epoch:  29\n",
      "Training loss:  0.3425670391731044\n",
      "Test loss:  0.38433692542610653\n",
      "Accuracy: 87.38057324840764%\n"
     ]
    }
   ],
   "source": [
    "## TODO: Train your model with dropout, and monitor the training progress with the validation loss and accuracy\n",
    "model = Classifier()\n",
    "criterion = nn.NLLLoss()\n",
    "optimizer = optim.Adam(model.parameters(), lr=0.003)\n",
    "\n",
    "epochs = 30\n",
    "steps = 0\n",
    "\n",
    "train_losses, test_losses = [], []\n",
    "for e in range(epochs):\n",
    "    running_loss = 0\n",
    "    for images, labels in trainloader:\n",
    "        \n",
    "        optimizer.zero_grad()\n",
    "        \n",
    "        log_ps = model(images)\n",
    "        loss = criterion(log_ps, labels)\n",
    "        loss.backward()\n",
    "        optimizer.step()\n",
    "        \n",
    "        running_loss += loss.item()\n",
    "                \n",
    "    else:\n",
    "        # Disable dropout by turning back to evaluation mode.\n",
    "        model.eval()\n",
    "        total_acc = 0\n",
    "        test_loss = 0\n",
    "        ## TODO: Implement the validation pass and print out the validation accuracy\n",
    "        with torch.no_grad():\n",
    "            for images, labels in testloader:\n",
    "                                \n",
    "                # Forward pass.\n",
    "                log_ps = model.forward(images)\n",
    "                \n",
    "                # Add the test loss.\n",
    "                test_loss += criterion(log_ps, labels).item()\n",
    "                \n",
    "                # Find probs.\n",
    "                ps = torch.exp(log_ps)\n",
    "                \n",
    "                # Find top class.\n",
    "                top_p, top_class = ps.topk(1, dim=1)\n",
    "                \n",
    "                # Check if predicted class matches labels.\n",
    "                equals = top_class == labels.view(*top_class.shape)\n",
    "                \n",
    "                # Calc. mean of equals. This is the accuracy for this batch.\n",
    "                accuracy = torch.mean(equals.type(torch.FloatTensor))\n",
    "\n",
    "                total_acc += accuracy.item()\n",
    "        \n",
    "        # Enable dropout.\n",
    "        model.train()\n",
    "        \n",
    "    test_losses.append(test_loss/len(testloader))\n",
    "    train_losses.append(running_loss/len(trainloader))\n",
    "    \n",
    "                \n",
    "    # For this epoch.\n",
    "        \n",
    "    print(\"Epoch: \", e)\n",
    "    print(\"Training loss: \", running_loss/len(trainloader))\n",
    "    print(\"Test loss: \", test_loss/len(testloader))\n",
    "    total_acc = total_acc/len(testloader)\n",
    "    print(f'Accuracy: {total_acc*100}%')"
   ]
  },
  {
   "cell_type": "markdown",
   "metadata": {},
   "source": [
    "## Inference\n",
    "\n",
    "Now that the model is trained, we can use it for inference. We've done this before, but now we need to remember to set the model in inference mode with `model.eval()`. You'll also want to turn off autograd with the `torch.no_grad()` context."
   ]
  },
  {
   "cell_type": "code",
   "execution_count": 9,
   "metadata": {},
   "outputs": [
    {
     "data": {
      "text/plain": [
       "<matplotlib.legend.Legend at 0x7f2f059ee4e0>"
      ]
     },
     "execution_count": 9,
     "metadata": {},
     "output_type": "execute_result"
    },
    {
     "data": {
      "image/png": "[encoded data removed]",
      "text/plain": [
       "<Figure size 432x288 with 1 Axes>"
      ]
     },
     "metadata": {
      "image/png": {
       "height": 248,
       "width": 380
      },
      "needs_background": "light"
     },
     "output_type": "display_data"
    }
   ],
   "source": [
    "%matplotlib inline\n",
    "%config InlineBackend.figure_format = 'retina'\n",
    "\n",
    "import matplotlib.pyplot as plt\n",
    "\n",
    "plt.plot(train_losses, label='Training loss')\n",
    "plt.plot(test_losses, label='Validation loss')\n",
    "plt.legend(frameon=False)"
   ]
  },
  {
   "cell_type": "code",
   "execution_count": 10,
   "metadata": {},
   "outputs": [
    {
     "data": {
      "image/png": "[encoded data removed]",
      "text/plain": [
       "<Figure size 432x648 with 2 Axes>"
      ]
     },
     "metadata": {
      "image/png": {
       "height": 216,
       "width": 424
      },
      "needs_background": "light"
     },
     "output_type": "display_data"
    }
   ],
   "source": [
    "# Import helper module (should be in the repo)\n",
    "import helper\n",
    "\n",
    "# Test out your network!\n",
    "\n",
    "model.eval()\n",
    "\n",
    "dataiter = iter(testloader)\n",
    "images, labels = dataiter.next()\n",
    "img = images[0]\n",
    "# Convert 2D image to 1D vector\n",
    "img = img.view(1, 784)\n",
    "\n",
    "# Calculate the class probabilities (softmax) for img\n",
    "with torch.no_grad():\n",
    "    output = model.forward(img)\n",
    "\n",
    "ps = torch.exp(output)\n",
    "\n",
    "# Plot the image and probabilities\n",
    "helper.view_classify(img.view(1, 28, 28), ps, version='Fashion')"
   ]
  },
  {
   "cell_type": "markdown",
   "metadata": {},
   "source": [
    "## Next Up!\n",
    "\n",
    "In the next part, I'll show you how to save your trained models. In general, you won't want to train a model everytime you need it. Instead, you'll train once, save it, then load the model when you want to train more or use if for inference."
   ]
  }
 ],
 "metadata": {
  "kernelspec": {
   "display_name": "Python 3",
   "language": "python",
   "name": "python3"
  },
  "language_info": {
   "codemirror_mode": {
    "name": "ipython",
    "version": 3
   },
   "file_extension": ".py",
   "mimetype": "text/x-python",
   "name": "python",
   "nbconvert_exporter": "python",
   "pygments_lexer": "ipython3",
   "version": "3.6.9"
  }
 },
 "nbformat": 4,
 "nbformat_minor": 2
}
